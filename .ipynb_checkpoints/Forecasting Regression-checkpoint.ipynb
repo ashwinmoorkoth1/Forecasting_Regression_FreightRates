{
 "cells": [
  {
   "cell_type": "markdown",
   "metadata": {},
   "source": [
    "## Predictive Modelling - Regression\n",
    "\n",
    "Using the dataset from MITx Supply Chain Fundamental [this](https://www.edx.org/course/supply-chain-fundamentals?index=product&queryID=24250480a1e2931d7846899ff6341aaf&position=1).\n",
    "\n",
    "### Data\n",
    "\n",
    "This dataset contains information about data showing the costs and some other characteristics of about 100 TL shipments\n",
    "\n",
    "The questions to answer here are :\n",
    "- **What characteristics are driving the rates for my TL services?**\n",
    "- **What rates should I expect if new lanes are opened?**\n",
    "\n",
    "### Independent variable to be forecasted\n",
    "- **CPL** (int) - cost per load ($)\n",
    "\n",
    "### Dependednt variable to be used to estimate the independent variable\n",
    "\n",
    "- **ID** (str) - unique identification number for the load\n",
    "- **Dist** (str) - distance hauled for shipment (miles)\n",
    "- **LtTime** (float) - lead time from offer to tender to carrier (days) 0 = sameday\n",
    "- **TrlLng** (int) - trailer length (feet)\n",
    "- **Wgt** (int) - weight of goods in trailer (lbs)\n",
    "- **Eqpt** (str) - equipment type (Dry Van or Refrigerated)\n"
   ]
  },
  {
   "cell_type": "code",
   "execution_count": 97,
   "metadata": {},
   "outputs": [],
   "source": [
    "import numpy as np\n",
    "import pandas as pd\n",
    "import os\n",
    "import matplotlib.pyplot as plt\n",
    "import seaborn as sns\n",
    "%matplotlib inline"
   ]
  },
  {
   "cell_type": "markdown",
   "metadata": {},
   "source": [
    "### Read in data"
   ]
  },
  {
   "cell_type": "code",
   "execution_count": 98,
   "metadata": {},
   "outputs": [],
   "source": [
    "df = pd.read_csv('Data\\Transportation Planning - Regression\\SC0x_W6L2_DuffyInudstries_RawData.csv')"
   ]
  },
  {
   "cell_type": "markdown",
   "metadata": {},
   "source": [
    "## EDA & Cleaning: Cleaning the categorical features"
   ]
  },
  {
   "cell_type": "code",
   "execution_count": 99,
   "metadata": {},
   "outputs": [
    {
     "data": {
      "text/html": [
       "<div>\n",
       "<style scoped>\n",
       "    .dataframe tbody tr th:only-of-type {\n",
       "        vertical-align: middle;\n",
       "    }\n",
       "\n",
       "    .dataframe tbody tr th {\n",
       "        vertical-align: top;\n",
       "    }\n",
       "\n",
       "    .dataframe thead th {\n",
       "        text-align: right;\n",
       "    }\n",
       "</style>\n",
       "<table border=\"1\" class=\"dataframe\">\n",
       "  <thead>\n",
       "    <tr style=\"text-align: right;\">\n",
       "      <th></th>\n",
       "      <th>ID</th>\n",
       "      <th>CPL</th>\n",
       "      <th>Dist</th>\n",
       "      <th>LdTime</th>\n",
       "      <th>TrlLng</th>\n",
       "      <th>Wgt</th>\n",
       "      <th>Equpt</th>\n",
       "    </tr>\n",
       "  </thead>\n",
       "  <tbody>\n",
       "    <tr>\n",
       "      <th>0</th>\n",
       "      <td>1</td>\n",
       "      <td>3692</td>\n",
       "      <td>1579</td>\n",
       "      <td>1</td>\n",
       "      <td>53</td>\n",
       "      <td>20559</td>\n",
       "      <td>DRY</td>\n",
       "    </tr>\n",
       "    <tr>\n",
       "      <th>1</th>\n",
       "      <td>2</td>\n",
       "      <td>3279</td>\n",
       "      <td>1298</td>\n",
       "      <td>12</td>\n",
       "      <td>48</td>\n",
       "      <td>17025</td>\n",
       "      <td>REF</td>\n",
       "    </tr>\n",
       "    <tr>\n",
       "      <th>2</th>\n",
       "      <td>3</td>\n",
       "      <td>3120</td>\n",
       "      <td>1382</td>\n",
       "      <td>11</td>\n",
       "      <td>48</td>\n",
       "      <td>26735</td>\n",
       "      <td>DRY</td>\n",
       "    </tr>\n",
       "    <tr>\n",
       "      <th>3</th>\n",
       "      <td>4</td>\n",
       "      <td>3205</td>\n",
       "      <td>1033</td>\n",
       "      <td>1</td>\n",
       "      <td>53</td>\n",
       "      <td>26175</td>\n",
       "      <td>DRY</td>\n",
       "    </tr>\n",
       "    <tr>\n",
       "      <th>4</th>\n",
       "      <td>5</td>\n",
       "      <td>3188</td>\n",
       "      <td>1320</td>\n",
       "      <td>3</td>\n",
       "      <td>53</td>\n",
       "      <td>17994</td>\n",
       "      <td>DRY</td>\n",
       "    </tr>\n",
       "  </tbody>\n",
       "</table>\n",
       "</div>"
      ],
      "text/plain": [
       "   ID   CPL  Dist  LdTime   TrlLng     Wgt Equpt\n",
       "0   1  3692  1579       1        53  20559   DRY\n",
       "1   2  3279  1298      12        48  17025   REF\n",
       "2   3  3120  1382      11        48  26735   DRY\n",
       "3   4  3205  1033       1        53  26175   DRY\n",
       "4   5  3188  1320       3        53  17994   DRY"
      ]
     },
     "execution_count": 99,
     "metadata": {},
     "output_type": "execute_result"
    }
   ],
   "source": [
    "# Display of the dataset\n",
    "df.head()"
   ]
  },
  {
   "cell_type": "code",
   "execution_count": 100,
   "metadata": {},
   "outputs": [
    {
     "name": "stdout",
     "output_type": "stream",
     "text": [
      "<class 'pandas.core.frame.DataFrame'>\n",
      "RangeIndex: 100 entries, 0 to 99\n",
      "Data columns (total 7 columns):\n",
      " #   Column    Non-Null Count  Dtype \n",
      "---  ------    --------------  ----- \n",
      " 0   ID        100 non-null    int64 \n",
      " 1   CPL       100 non-null    int64 \n",
      " 2   Dist      100 non-null    int64 \n",
      " 3   LdTime    100 non-null    int64 \n",
      " 4    TrlLng   100 non-null    int64 \n",
      " 5   Wgt       100 non-null    int64 \n",
      " 6   Equpt     100 non-null    object\n",
      "dtypes: int64(6), object(1)\n",
      "memory usage: 5.6+ KB\n"
     ]
    }
   ],
   "source": [
    "# All the data types of the variables\n",
    "df.info()"
   ]
  },
  {
   "cell_type": "code",
   "execution_count": 101,
   "metadata": {},
   "outputs": [
    {
     "data": {
      "text/html": [
       "<div>\n",
       "<style scoped>\n",
       "    .dataframe tbody tr th:only-of-type {\n",
       "        vertical-align: middle;\n",
       "    }\n",
       "\n",
       "    .dataframe tbody tr th {\n",
       "        vertical-align: top;\n",
       "    }\n",
       "\n",
       "    .dataframe thead th {\n",
       "        text-align: right;\n",
       "    }\n",
       "</style>\n",
       "<table border=\"1\" class=\"dataframe\">\n",
       "  <thead>\n",
       "    <tr style=\"text-align: right;\">\n",
       "      <th></th>\n",
       "      <th>CPL</th>\n",
       "      <th>Dist</th>\n",
       "      <th>LdTime</th>\n",
       "      <th>TrlLng</th>\n",
       "      <th>Wgt</th>\n",
       "      <th>Equpt</th>\n",
       "    </tr>\n",
       "  </thead>\n",
       "  <tbody>\n",
       "    <tr>\n",
       "      <th>count</th>\n",
       "      <td>100.000000</td>\n",
       "      <td>100.00000</td>\n",
       "      <td>100.00000</td>\n",
       "      <td>100.000000</td>\n",
       "      <td>100.000000</td>\n",
       "      <td>100</td>\n",
       "    </tr>\n",
       "    <tr>\n",
       "      <th>unique</th>\n",
       "      <td>NaN</td>\n",
       "      <td>NaN</td>\n",
       "      <td>NaN</td>\n",
       "      <td>NaN</td>\n",
       "      <td>NaN</td>\n",
       "      <td>2</td>\n",
       "    </tr>\n",
       "    <tr>\n",
       "      <th>top</th>\n",
       "      <td>NaN</td>\n",
       "      <td>NaN</td>\n",
       "      <td>NaN</td>\n",
       "      <td>NaN</td>\n",
       "      <td>NaN</td>\n",
       "      <td>REF</td>\n",
       "    </tr>\n",
       "    <tr>\n",
       "      <th>freq</th>\n",
       "      <td>NaN</td>\n",
       "      <td>NaN</td>\n",
       "      <td>NaN</td>\n",
       "      <td>NaN</td>\n",
       "      <td>NaN</td>\n",
       "      <td>60</td>\n",
       "    </tr>\n",
       "    <tr>\n",
       "      <th>mean</th>\n",
       "      <td>3131.600000</td>\n",
       "      <td>1207.18000</td>\n",
       "      <td>5.87000</td>\n",
       "      <td>51.250000</td>\n",
       "      <td>26708.180000</td>\n",
       "      <td>NaN</td>\n",
       "    </tr>\n",
       "    <tr>\n",
       "      <th>std</th>\n",
       "      <td>655.358519</td>\n",
       "      <td>386.84242</td>\n",
       "      <td>3.96106</td>\n",
       "      <td>2.396862</td>\n",
       "      <td>7069.840196</td>\n",
       "      <td>NaN</td>\n",
       "    </tr>\n",
       "    <tr>\n",
       "      <th>min</th>\n",
       "      <td>1660.000000</td>\n",
       "      <td>502.00000</td>\n",
       "      <td>0.00000</td>\n",
       "      <td>48.000000</td>\n",
       "      <td>15100.000000</td>\n",
       "      <td>NaN</td>\n",
       "    </tr>\n",
       "    <tr>\n",
       "      <th>25%</th>\n",
       "      <td>2631.750000</td>\n",
       "      <td>904.00000</td>\n",
       "      <td>2.75000</td>\n",
       "      <td>48.000000</td>\n",
       "      <td>21220.750000</td>\n",
       "      <td>NaN</td>\n",
       "    </tr>\n",
       "    <tr>\n",
       "      <th>50%</th>\n",
       "      <td>3166.000000</td>\n",
       "      <td>1273.00000</td>\n",
       "      <td>6.00000</td>\n",
       "      <td>53.000000</td>\n",
       "      <td>26513.500000</td>\n",
       "      <td>NaN</td>\n",
       "    </tr>\n",
       "    <tr>\n",
       "      <th>75%</th>\n",
       "      <td>3701.250000</td>\n",
       "      <td>1538.25000</td>\n",
       "      <td>9.00000</td>\n",
       "      <td>53.000000</td>\n",
       "      <td>32276.000000</td>\n",
       "      <td>NaN</td>\n",
       "    </tr>\n",
       "    <tr>\n",
       "      <th>max</th>\n",
       "      <td>4301.000000</td>\n",
       "      <td>1793.00000</td>\n",
       "      <td>13.00000</td>\n",
       "      <td>53.000000</td>\n",
       "      <td>39931.000000</td>\n",
       "      <td>NaN</td>\n",
       "    </tr>\n",
       "  </tbody>\n",
       "</table>\n",
       "</div>"
      ],
      "text/plain": [
       "                CPL        Dist     LdTime     TrlLng            Wgt Equpt\n",
       "count    100.000000   100.00000  100.00000  100.000000    100.000000   100\n",
       "unique          NaN         NaN        NaN         NaN           NaN     2\n",
       "top             NaN         NaN        NaN         NaN           NaN   REF\n",
       "freq            NaN         NaN        NaN         NaN           NaN    60\n",
       "mean    3131.600000  1207.18000    5.87000   51.250000  26708.180000   NaN\n",
       "std      655.358519   386.84242    3.96106    2.396862   7069.840196   NaN\n",
       "min     1660.000000   502.00000    0.00000   48.000000  15100.000000   NaN\n",
       "25%     2631.750000   904.00000    2.75000   48.000000  21220.750000   NaN\n",
       "50%     3166.000000  1273.00000    6.00000   53.000000  26513.500000   NaN\n",
       "75%     3701.250000  1538.25000    9.00000   53.000000  32276.000000   NaN\n",
       "max     4301.000000  1793.00000   13.00000   53.000000  39931.000000   NaN"
      ]
     },
     "execution_count": 101,
     "metadata": {},
     "output_type": "execute_result"
    }
   ],
   "source": [
    "# Descriptive Statistics of the variable\n",
    "df.drop(['ID'], axis=1).describe(include='all')"
   ]
  },
  {
   "cell_type": "code",
   "execution_count": 102,
   "metadata": {},
   "outputs": [
    {
     "data": {
      "text/plain": [
       "Equpt\n",
       "DRY    40\n",
       "REF    60\n",
       "Name: ID, dtype: int64"
      ]
     },
     "execution_count": 102,
     "metadata": {},
     "output_type": "execute_result"
    }
   ],
   "source": [
    "# Number of entries of Dry and Reefer containers in the dataset\n",
    "df.groupby(df['Equpt'])['ID'].count()"
   ]
  },
  {
   "cell_type": "markdown",
   "metadata": {},
   "source": [
    "### Ploting correlation between the variables to assess relationships"
   ]
  },
  {
   "cell_type": "code",
   "execution_count": 103,
   "metadata": {},
   "outputs": [],
   "source": [
    "sns.set_palette(\"GnBu_d\")\n",
    "sns.set_style('whitegrid')"
   ]
  },
  {
   "cell_type": "markdown",
   "metadata": {},
   "source": [
    "### One can observe a high correlation between Distance and Cost per load"
   ]
  },
  {
   "cell_type": "code",
   "execution_count": 104,
   "metadata": {},
   "outputs": [
    {
     "data": {
      "image/png": "[encoded data removed]",
      "text/plain": [
       "<Figure size 792x648 with 2 Axes>"
      ]
     },
     "metadata": {},
     "output_type": "display_data"
    }
   ],
   "source": [
    "corr = df.corr()\n",
    "mask = np.zeros_like(corr, dtype=np.bool)\n",
    "mask[np.triu_indices_from(mask)] = True\n",
    "f, ax = plt.subplots(figsize=(11, 9))\n",
    "cmap = sns.diverging_palette(220, 10, as_cmap=True)\n",
    "sns.heatmap(corr, mask=mask, cmap=cmap, vmax=.3, center=0,\n",
    "            square=True, linewidths=.5, cbar_kws={\"shrink\": .5});"
   ]
  },
  {
   "cell_type": "markdown",
   "metadata": {},
   "source": [
    "### Observing the plots aginst each variables"
   ]
  },
  {
   "cell_type": "code",
   "execution_count": 105,
   "metadata": {},
   "outputs": [
    {
     "data": {
      "image/png": "[encoded data removed]",
      "text/plain": [
       "<Figure size 900x900 with 30 Axes>"
      ]
     },
     "metadata": {},
     "output_type": "display_data"
    }
   ],
   "source": [
    "cols = ['CPL', 'Dist', 'LdTime', 'Wgt', ' TrlLng ','Equpt']\n",
    "sns.pairplot(df[cols]);"
   ]
  },
  {
   "cell_type": "markdown",
   "metadata": {},
   "source": [
    "### <font color=blue> Observing the plot between Distance and CPL </font>"
   ]
  },
  {
   "cell_type": "code",
   "execution_count": 106,
   "metadata": {},
   "outputs": [
    {
     "data": {
      "image/png": "[encoded data removed]",
      "text/plain": [
       "<Figure size 576x576 with 3 Axes>"
      ]
     },
     "metadata": {},
     "output_type": "display_data"
    }
   ],
   "source": [
    "sns.jointplot(x='Dist',y='CPL',data=df, height=8);"
   ]
  },
  {
   "cell_type": "markdown",
   "metadata": {},
   "source": [
    "### Since equipment type is an important indicator (Dry or Reefer) and may impact the cost we create a numerical indicator for `Equpt`"
   ]
  },
  {
   "cell_type": "code",
   "execution_count": 107,
   "metadata": {},
   "outputs": [
    {
     "data": {
      "text/html": [
       "<div>\n",
       "<style scoped>\n",
       "    .dataframe tbody tr th:only-of-type {\n",
       "        vertical-align: middle;\n",
       "    }\n",
       "\n",
       "    .dataframe tbody tr th {\n",
       "        vertical-align: top;\n",
       "    }\n",
       "\n",
       "    .dataframe thead th {\n",
       "        text-align: right;\n",
       "    }\n",
       "</style>\n",
       "<table border=\"1\" class=\"dataframe\">\n",
       "  <thead>\n",
       "    <tr style=\"text-align: right;\">\n",
       "      <th></th>\n",
       "      <th>ID</th>\n",
       "      <th>CPL</th>\n",
       "      <th>Dist</th>\n",
       "      <th>LdTime</th>\n",
       "      <th>TrlLng</th>\n",
       "      <th>Wgt</th>\n",
       "      <th>Equpt</th>\n",
       "      <th>Equpt_ind</th>\n",
       "    </tr>\n",
       "  </thead>\n",
       "  <tbody>\n",
       "    <tr>\n",
       "      <th>0</th>\n",
       "      <td>1</td>\n",
       "      <td>3692</td>\n",
       "      <td>1579</td>\n",
       "      <td>1</td>\n",
       "      <td>53</td>\n",
       "      <td>20559</td>\n",
       "      <td>DRY</td>\n",
       "      <td>1</td>\n",
       "    </tr>\n",
       "    <tr>\n",
       "      <th>1</th>\n",
       "      <td>2</td>\n",
       "      <td>3279</td>\n",
       "      <td>1298</td>\n",
       "      <td>12</td>\n",
       "      <td>48</td>\n",
       "      <td>17025</td>\n",
       "      <td>REF</td>\n",
       "      <td>0</td>\n",
       "    </tr>\n",
       "    <tr>\n",
       "      <th>2</th>\n",
       "      <td>3</td>\n",
       "      <td>3120</td>\n",
       "      <td>1382</td>\n",
       "      <td>11</td>\n",
       "      <td>48</td>\n",
       "      <td>26735</td>\n",
       "      <td>DRY</td>\n",
       "      <td>1</td>\n",
       "    </tr>\n",
       "    <tr>\n",
       "      <th>3</th>\n",
       "      <td>4</td>\n",
       "      <td>3205</td>\n",
       "      <td>1033</td>\n",
       "      <td>1</td>\n",
       "      <td>53</td>\n",
       "      <td>26175</td>\n",
       "      <td>DRY</td>\n",
       "      <td>1</td>\n",
       "    </tr>\n",
       "    <tr>\n",
       "      <th>4</th>\n",
       "      <td>5</td>\n",
       "      <td>3188</td>\n",
       "      <td>1320</td>\n",
       "      <td>3</td>\n",
       "      <td>53</td>\n",
       "      <td>17994</td>\n",
       "      <td>DRY</td>\n",
       "      <td>1</td>\n",
       "    </tr>\n",
       "  </tbody>\n",
       "</table>\n",
       "</div>"
      ],
      "text/plain": [
       "   ID   CPL  Dist  LdTime   TrlLng     Wgt Equpt  Equpt_ind\n",
       "0   1  3692  1579       1        53  20559   DRY          1\n",
       "1   2  3279  1298      12        48  17025   REF          0\n",
       "2   3  3120  1382      11        48  26735   DRY          1\n",
       "3   4  3205  1033       1        53  26175   DRY          1\n",
       "4   5  3188  1320       3        53  17994   DRY          1"
      ]
     },
     "execution_count": 107,
     "metadata": {},
     "output_type": "execute_result"
    }
   ],
   "source": [
    "df['Equpt_ind'] = np.where(df['Equpt']=='DRY', 1, 0)\n",
    "df.head()"
   ]
  },
  {
   "cell_type": "markdown",
   "metadata": {},
   "source": [
    "### Drop `ID` and `Equpt`"
   ]
  },
  {
   "cell_type": "code",
   "execution_count": 108,
   "metadata": {},
   "outputs": [],
   "source": [
    "df.drop(['ID', 'Equpt'], axis=1, inplace=True)"
   ]
  },
  {
   "cell_type": "markdown",
   "metadata": {},
   "source": [
    "## Feature Selection"
   ]
  },
  {
   "cell_type": "code",
   "execution_count": 109,
   "metadata": {},
   "outputs": [],
   "source": [
    "import statsmodels.api as sm\n",
    "from scipy import stats"
   ]
  },
  {
   "cell_type": "markdown",
   "metadata": {},
   "source": [
    "### Since "
   ]
  },
  {
   "cell_type": "code",
   "execution_count": 110,
   "metadata": {},
   "outputs": [
    {
     "name": "stdout",
     "output_type": "stream",
     "text": [
      "                            OLS Regression Results                            \n",
      "==============================================================================\n",
      "Dep. Variable:                    CPL   R-squared:                       0.818\n",
      "Model:                            OLS   Adj. R-squared:                  0.816\n",
      "Method:                 Least Squares   F-statistic:                     439.3\n",
      "Date:                Mon, 05 Jul 2021   Prob (F-statistic):           5.47e-38\n",
      "Time:                        15:12:27   Log-Likelihood:                -704.83\n",
      "No. Observations:                 100   AIC:                             1414.\n",
      "Df Residuals:                      98   BIC:                             1419.\n",
      "Df Model:                           1                                         \n",
      "Covariance Type:            nonrobust                                         \n",
      "==============================================================================\n",
      "                 coef    std err          t      P>|t|      [0.025      0.975]\n",
      "------------------------------------------------------------------------------\n",
      "const       1282.3839     92.606     13.848      0.000    1098.610    1466.157\n",
      "Dist           1.5318      0.073     20.959      0.000       1.387       1.677\n",
      "==============================================================================\n",
      "Omnibus:                        7.513   Durbin-Watson:                   2.020\n",
      "Prob(Omnibus):                  0.023   Jarque-Bera (JB):                3.580\n",
      "Skew:                           0.204   Prob(JB):                        0.167\n",
      "Kurtosis:                       2.168   Cond. No.                     4.17e+03\n",
      "==============================================================================\n",
      "\n",
      "Warnings:\n",
      "[1] Standard Errors assume that the covariance matrix of the errors is correctly specified.\n",
      "[2] The condition number is large, 4.17e+03. This might indicate that there are\n",
      "strong multicollinearity or other numerical problems.\n"
     ]
    }
   ],
   "source": [
    "X = sm.add_constant(df['Dist'])\n",
    "est = sm.OLS(df['CPL'], X)\n",
    "est2 = est.fit()\n",
    "print(est2.summary())"
   ]
  },
  {
   "cell_type": "markdown",
   "metadata": {},
   "source": [
    "### Interpretation\n",
    "#### Model explains ~82% of total variation in CPL which is very good\n",
    "#### Both the coef terms make sense in terms of magnitude and signand are statistically valid (p<0.0001)"
   ]
  },
  {
   "cell_type": "code",
   "execution_count": 111,
   "metadata": {},
   "outputs": [
    {
     "name": "stdout",
     "output_type": "stream",
     "text": [
      "                            OLS Regression Results                            \n",
      "==============================================================================\n",
      "Dep. Variable:                    CPL   R-squared:                       0.819\n",
      "Model:                            OLS   Adj. R-squared:                  0.815\n",
      "Method:                 Least Squares   F-statistic:                     218.9\n",
      "Date:                Mon, 05 Jul 2021   Prob (F-statistic):           1.10e-36\n",
      "Time:                        15:12:27   Log-Likelihood:                -704.55\n",
      "No. Observations:                 100   AIC:                             1415.\n",
      "Df Residuals:                      97   BIC:                             1423.\n",
      "Df Model:                           2                                         \n",
      "Covariance Type:            nonrobust                                         \n",
      "==============================================================================\n",
      "                 coef    std err          t      P>|t|      [0.025      0.975]\n",
      "------------------------------------------------------------------------------\n",
      "const       1354.4908    134.410     10.077      0.000    1087.724    1621.258\n",
      "Dist           1.5384      0.074     20.850      0.000       1.392       1.685\n",
      "Wgt           -0.0030      0.004     -0.742      0.460      -0.011       0.005\n",
      "==============================================================================\n",
      "Omnibus:                       10.932   Durbin-Watson:                   2.036\n",
      "Prob(Omnibus):                  0.004   Jarque-Bera (JB):                4.260\n",
      "Skew:                           0.203   Prob(JB):                        0.119\n",
      "Kurtosis:                       2.074   Cond. No.                     1.32e+05\n",
      "==============================================================================\n",
      "\n",
      "Warnings:\n",
      "[1] Standard Errors assume that the covariance matrix of the errors is correctly specified.\n",
      "[2] The condition number is large, 1.32e+05. This might indicate that there are\n",
      "strong multicollinearity or other numerical problems.\n"
     ]
    }
   ],
   "source": [
    "X = sm.add_constant(df[['Dist','Wgt']])\n",
    "est = sm.OLS(df['CPL'], X)\n",
    "est2 = est.fit()\n",
    "print(est2.summary())"
   ]
  },
  {
   "cell_type": "markdown",
   "metadata": {},
   "source": [
    "### Interpretation\n",
    "#### Model\texplains\t~82%\tof\ttotal\tvariation\tin\tCPL\n",
    "#### Note\tthat\twhile\tR2 improved\tfrom\tModel\t1,\tthe\tadj R2 got\tworse\n",
    "#### Both\tthe\tconst and\tDist terms\tmake\tsense\tin\tterms\tof\tmagnitude\tand\tsign\tand\tare statistically\tvalid\t(p<0.0001)\n",
    "#### Wgt does not\tmake\tsense\t(more\tweight\tcosts\tless?)\tand\thas\tpoor\tp-value"
   ]
  },
  {
   "cell_type": "code",
   "execution_count": 112,
   "metadata": {},
   "outputs": [
    {
     "name": "stdout",
     "output_type": "stream",
     "text": [
      "                            OLS Regression Results                            \n",
      "==============================================================================\n",
      "Dep. Variable:                    CPL   R-squared:                       0.823\n",
      "Model:                            OLS   Adj. R-squared:                  0.817\n",
      "Method:                 Least Squares   F-statistic:                     148.4\n",
      "Date:                Mon, 05 Jul 2021   Prob (F-statistic):           6.41e-36\n",
      "Time:                        15:12:27   Log-Likelihood:                -703.45\n",
      "No. Observations:                 100   AIC:                             1415.\n",
      "Df Residuals:                      96   BIC:                             1425.\n",
      "Df Model:                           3                                         \n",
      "Covariance Type:            nonrobust                                         \n",
      "==============================================================================\n",
      "                 coef    std err          t      P>|t|      [0.025      0.975]\n",
      "------------------------------------------------------------------------------\n",
      "const       1390.3869    135.864     10.234      0.000    1120.699    1660.075\n",
      "Dist           1.5350      0.073     20.917      0.000       1.389       1.681\n",
      "Wgt           -0.0029      0.004     -0.731      0.466      -0.011       0.005\n",
      "Equpt_ind    -83.7207     57.249     -1.462      0.147    -197.360      29.918\n",
      "==============================================================================\n",
      "Omnibus:                        6.375   Durbin-Watson:                   2.071\n",
      "Prob(Omnibus):                  0.041   Jarque-Bera (JB):                3.691\n",
      "Skew:                           0.273   Prob(JB):                        0.158\n",
      "Kurtosis:                       2.233   Cond. No.                     1.34e+05\n",
      "==============================================================================\n",
      "\n",
      "Warnings:\n",
      "[1] Standard Errors assume that the covariance matrix of the errors is correctly specified.\n",
      "[2] The condition number is large, 1.34e+05. This might indicate that there are\n",
      "strong multicollinearity or other numerical problems.\n"
     ]
    }
   ],
   "source": [
    "X = sm.add_constant(df[['Dist','Wgt','Equpt_ind']])\n",
    "est = sm.OLS(df['CPL'], X)\n",
    "est2 = est.fit()\n",
    "print(est2.summary())"
   ]
  },
  {
   "cell_type": "markdown",
   "metadata": {},
   "source": [
    "### Interpretation\n",
    "#### Model\texplains\t~82%\tof\ttotal\tvariation\tin\tCPL\n",
    "#### Both\tthe\tconst and\tdist terms\tare\tstill\tfine\n",
    "#### Equip does\tnot\tmake\tsense\tin\tterms\tof\tsign\t(refrigeration\tcosts\tmore)\tbut\thas\ta\tpoor\tp-value.\t\tPerhaps\tit\tis\tmore\tof\ta\tfunction\tof\tdistance"
   ]
  },
  {
   "cell_type": "markdown",
   "metadata": {},
   "source": [
    "### From the exploratory and feature selection we understand that weight of the consignment does not indicate a higher post per load but dist is a surely an indicator. Since in practicality we know that a reefer container should cost more than a dry container we will keep the variable in the model to predict cost per load."
   ]
  },
  {
   "cell_type": "markdown",
   "metadata": {},
   "source": [
    "## Training and Testing Data\n",
    "\n",
    "Now that we've explored the data a bit, let's split the data into training and testing sets.\n",
    "** Set a variable X (dist, equipment) equal to the numerical features of the shipment data and a variable y equal to the \"cost per load\" column. **"
   ]
  },
  {
   "cell_type": "code",
   "execution_count": 113,
   "metadata": {},
   "outputs": [],
   "source": [
    "from sklearn.model_selection import train_test_split"
   ]
  },
  {
   "cell_type": "code",
   "execution_count": 114,
   "metadata": {},
   "outputs": [],
   "source": [
    "featurecols =  ['Dist','Equpt_ind']\n",
    "features = df[featurecols]\n",
    "labels = df['CPL']"
   ]
  },
  {
   "cell_type": "code",
   "execution_count": 115,
   "metadata": {},
   "outputs": [],
   "source": [
    "# We will split the data into testing(20%) and training (80%)\n",
    "X_train, X_test, y_train, y_test = train_test_split(features, labels, test_size=0.2, random_state=42)"
   ]
  },
  {
   "cell_type": "code",
   "execution_count": 116,
   "metadata": {},
   "outputs": [
    {
     "name": "stdout",
     "output_type": "stream",
     "text": [
      "100 80 20\n"
     ]
    }
   ],
   "source": [
    "print(len(labels), len(y_train), len(X_test))"
   ]
  },
  {
   "cell_type": "markdown",
   "metadata": {},
   "source": [
    "## Training the Model on our training data"
   ]
  },
  {
   "cell_type": "code",
   "execution_count": 117,
   "metadata": {},
   "outputs": [],
   "source": [
    "from sklearn.linear_model import LinearRegression"
   ]
  },
  {
   "cell_type": "markdown",
   "metadata": {},
   "source": [
    "**Create an instance of a LinearRegression() model named lm.**"
   ]
  },
  {
   "cell_type": "code",
   "execution_count": 118,
   "metadata": {},
   "outputs": [],
   "source": [
    "lm = LinearRegression()"
   ]
  },
  {
   "cell_type": "code",
   "execution_count": 119,
   "metadata": {},
   "outputs": [
    {
     "data": {
      "text/plain": [
       "LinearRegression(copy_X=True, fit_intercept=True, n_jobs=None, normalize=False)"
      ]
     },
     "execution_count": 119,
     "metadata": {},
     "output_type": "execute_result"
    }
   ],
   "source": [
    "lm.fit(X_train,y_train)"
   ]
  },
  {
   "cell_type": "markdown",
   "metadata": {},
   "source": [
    "**Print out the coefficients of the model**\n",
    "\n",
    "1.54 - Coefficient of Distance\n",
    "-54 - Coefficient of equipment type"
   ]
  },
  {
   "cell_type": "code",
   "execution_count": 120,
   "metadata": {},
   "outputs": [
    {
     "name": "stdout",
     "output_type": "stream",
     "text": [
      "Coefficients of intercept: \n",
      " 1294.047919123616\n",
      "Coefficients of Variables: \n",
      " [  1.54709307 -54.31775624]\n"
     ]
    }
   ],
   "source": [
    "print('Coefficients of intercept: \\n', lm.intercept_)\n",
    "print('Coefficients of Variables: \\n', lm.coef_)"
   ]
  },
  {
   "cell_type": "markdown",
   "metadata": {},
   "source": [
    "## Predicting Test Data\n",
    "Evaluation its performance by predicting off the test values!"
   ]
  },
  {
   "cell_type": "code",
   "execution_count": 121,
   "metadata": {},
   "outputs": [],
   "source": [
    "# Predict function is used on the test data to get the predictions\n",
    "predictions = lm.predict(X_test)"
   ]
  },
  {
   "cell_type": "code",
   "execution_count": 122,
   "metadata": {},
   "outputs": [],
   "source": [
    "predictions = pd.Series(predictions)\n",
    "y_test = y_test.reset_index(drop=True)\n",
    "dt = pd.DataFrame({'Y Test':y_test,'Predicted':predictions})"
   ]
  },
  {
   "cell_type": "markdown",
   "metadata": {},
   "source": [
    "### A comparison of predicted values and the Actual values"
   ]
  },
  {
   "cell_type": "code",
   "execution_count": 123,
   "metadata": {},
   "outputs": [
    {
     "data": {
      "image/png": "[encoded data removed]",
      "text/plain": [
       "<Figure size 576x432 with 1 Axes>"
      ]
     },
     "metadata": {},
     "output_type": "display_data"
    }
   ],
   "source": [
    "fig, ax = plt.subplots(figsize=(8,6))\n",
    "sns.scatterplot(x='Y Test',y='Predicted', ax=ax,  data=dt).set_title('Predicted Values Vs Actual Values');"
   ]
  },
  {
   "cell_type": "markdown",
   "metadata": {},
   "source": [
    "## Evaluating the Model\n",
    "\n",
    "Evaluation of the model performance by calculating the residual sum of squares and the explained variance score (R^2).\n",
    "\n",
    "** Calculate the Mean Absolute Error, Mean Squared Error, Root Mean Squared Error and Mean Absolute Percentage Error.**"
   ]
  },
  {
   "cell_type": "code",
   "execution_count": 129,
   "metadata": {},
   "outputs": [
    {
     "name": "stdout",
     "output_type": "stream",
     "text": [
      "Mean Absolute Error :  199.17196225967785\n",
      "Mean Squared Error :  59717.285169642\n",
      "Root Mean Squared Error :  244.37120364241363\n",
      "Mean Absolute Percentage Error: 6.982985852529075 %\n"
     ]
    }
   ],
   "source": [
    "from sklearn import metrics\n",
    "\n",
    "print('Mean Absolute Error : ', metrics.mean_absolute_error(y_test, predictions))\n",
    "print('Mean Squared Error : ', metrics.mean_squared_error(y_test, predictions))\n",
    "print('Root Mean Squared Error : ', np.sqrt(metrics.mean_squared_error(y_test, predictions)))\n",
    "print('Mean Absolute Percentage Error:', np.mean(np.abs((y_test - predictions) / y_test)) * 100, \"%\")\n"
   ]
  },
  {
   "cell_type": "code",
   "execution_count": null,
   "metadata": {},
   "outputs": [],
   "source": []
  },
  {
   "cell_type": "code",
   "execution_count": 128,
   "metadata": {},
   "outputs": [
    {
     "data": {
      "text/plain": [
       "count     100.000000\n",
       "mean     3131.600000\n",
       "std       655.358519\n",
       "min      1660.000000\n",
       "25%      2631.750000\n",
       "50%      3166.000000\n",
       "75%      3701.250000\n",
       "max      4301.000000\n",
       "Name: CPL, dtype: float64"
      ]
     },
     "execution_count": 128,
     "metadata": {},
     "output_type": "execute_result"
    }
   ],
   "source": [
    "df['CPL'].describe()"
   ]
  },
  {
   "cell_type": "markdown",
   "metadata": {},
   "source": [
    "## Residuals\n",
    "\n",
    "You should have gotten a very good model with a good fit. Let's quickly explore the residuals to make sure everything was okay with our data. \n",
    "\n",
    "**Plot a histogram of the residuals and make sure it looks normally distributed. Use either seaborn distplot, or just plt.hist().**"
   ]
  },
  {
   "cell_type": "code",
   "execution_count": 125,
   "metadata": {},
   "outputs": [
    {
     "data": {
      "text/plain": [
       "count    20.000000\n",
       "mean      6.982986\n",
       "std       5.612670\n",
       "min       0.254872\n",
       "25%       3.239772\n",
       "50%       5.143915\n",
       "75%      10.067660\n",
       "max      19.491743\n",
       "dtype: float64"
      ]
     },
     "execution_count": 125,
     "metadata": {},
     "output_type": "execute_result"
    }
   ],
   "source": [
    "mape = (abs(y_test-predictions)/y_test)*100\n",
    "mape.describe()"
   ]
  },
  {
   "cell_type": "code",
   "execution_count": 126,
   "metadata": {},
   "outputs": [
    {
     "data": {
      "image/png": "[encoded data removed]",
      "text/plain": [
       "<Figure size 432x288 with 1 Axes>"
      ]
     },
     "metadata": {},
     "output_type": "display_data"
    }
   ],
   "source": [
    "sns.distplot((y_test-predictions),bins=50);"
   ]
  },
  {
   "cell_type": "markdown",
   "metadata": {},
   "source": [
    "Interpreting the coefficients:\n",
    "\n",
    "- Holding all other features fixed, a 1 unit increase in **Distance** is associated with an **increase of 1.549 dollars in cost per load**.\n",
    "\n",
    "- Holding all other features fixed, a reefer container is associated with an **increase of 54.31 dollars in cost per load**."
   ]
  }
 ],
 "metadata": {
  "kernelspec": {
   "display_name": "Python 3",
   "language": "python",
   "name": "python3"
  },
  "language_info": {
   "codemirror_mode": {
    "name": "ipython",
    "version": 3
   },
   "file_extension": ".py",
   "mimetype": "text/x-python",
   "name": "python",
   "nbconvert_exporter": "python",
   "pygments_lexer": "ipython3",
   "version": "3.7.4"
  },
  "varInspector": {
   "cols": {
    "lenName": 16,
    "lenType": 16,
    "lenVar": 40
   },
   "kernels_config": {
    "python": {
     "delete_cmd_postfix": "",
     "delete_cmd_prefix": "del ",
     "library": "var_list.py",
     "varRefreshCmd": "print(var_dic_list())"
    },
    "r": {
     "delete_cmd_postfix": ") ",
     "delete_cmd_prefix": "rm(",
     "library": "var_list.r",
     "varRefreshCmd": "cat(var_dic_list()) "
    }
   },
   "types_to_exclude": [
    "module",
    "function",
    "builtin_function_or_method",
    "instance",
    "_Feature"
   ],
   "window_display": false
  }
 },
 "nbformat": 4,
 "nbformat_minor": 2
}
